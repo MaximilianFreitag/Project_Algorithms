{
 "cells": [
  {
   "cell_type": "markdown",
   "metadata": {},
   "source": [
    "# Actual code"
   ]
  },
  {
   "cell_type": "code",
   "execution_count": 1,
   "metadata": {},
   "outputs": [],
   "source": [
    "problem = [5, 11, 2, 20, 9, 44, 7]"
   ]
  },
  {
   "cell_type": "code",
   "execution_count": 2,
   "metadata": {},
   "outputs": [
    {
     "name": "stdout",
     "output_type": "stream",
     "text": [
      "[2, 5, 7, 9, 11, 20, 44]\n"
     ]
    }
   ],
   "source": [
    "#Define a function\n",
    "def selectionSort( itemsList ):\n",
    "    n = len( itemsList )         #Gets the total number of elements in the list\n",
    "\n",
    "    #Outer loop    \n",
    "    for i in range( n - 1 ):    #Iterate through the list\n",
    "        minValueIndex = i\n",
    "\n",
    "        #Inner Loop                \n",
    "        for j in range( i + 1, n ):          # the value for j does not start at index 0 but i + 1 \n",
    "            if itemsList[j] < itemsList[minValueIndex] :   #Find the min value in unsorted list\n",
    "                minValueIndex = j         #Update the smallest value \n",
    "\n",
    "        if minValueIndex != i :     #Compares minValueIndex and i to see if they are not equal\n",
    "            temp = itemsList[i]     #The leftmost value is stored in a temporal variable\n",
    "\n",
    "#The lower value from the right-hand side takes the first position            \n",
    "            itemsList[i] = itemsList[minValueIndex]   \n",
    "\n",
    "#temporal value is now stored in the position that was previously held by the minimum value    \n",
    "            itemsList[minValueIndex] = temp\n",
    "\n",
    "    return itemsList      #return the sorted list\n",
    "\n",
    "\n",
    "print(selectionSort(problem))"
   ]
  },
  {
   "cell_type": "markdown",
   "metadata": {},
   "source": [
    "### I hope this isn't too small for a Instagram page"
   ]
  },
  {
   "cell_type": "code",
   "execution_count": null,
   "metadata": {},
   "outputs": [],
   "source": []
  }
 ],
 "metadata": {
  "kernelspec": {
   "display_name": "Python 3",
   "language": "python",
   "name": "python3"
  },
  "language_info": {
   "codemirror_mode": {
    "name": "ipython",
    "version": 3
   },
   "file_extension": ".py",
   "mimetype": "text/x-python",
   "name": "python",
   "nbconvert_exporter": "python",
   "pygments_lexer": "ipython3",
   "version": "3.7.1"
  }
 },
 "nbformat": 4,
 "nbformat_minor": 2
}
